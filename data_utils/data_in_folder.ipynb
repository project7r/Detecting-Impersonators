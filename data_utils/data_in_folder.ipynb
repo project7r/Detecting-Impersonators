{
 "cells": [
  {
   "cell_type": "code",
   "execution_count": 5,
   "metadata": {},
   "outputs": [
    {
     "output_type": "stream",
     "name": "stdout",
     "text": "The autoreload extension is already loaded. To reload it, use:\n  %reload_ext autoreload\n"
    }
   ],
   "source": [
    "%load_ext autoreload\n",
    "%autoreload 2"
   ]
  },
  {
   "cell_type": "code",
   "execution_count": 33,
   "metadata": {},
   "outputs": [
    {
     "output_type": "stream",
     "name": "stdout",
     "text": "b'MATLAB 5.0 MAT-file, Platform: GLNXA64, Created on: Sun Jan 17 11:30:27 2016'\n1.0\ncolumns:\n ('dob', 'photo_taken', 'full_path', 'gender', 'name', 'face_location', 'face_score', 'second_face_score', 'celeb_names', 'celeb_id')\n"
    }
   ],
   "source": [
    "from mat_to_csv import mat_to_csv\n",
    "\n",
    "imdb_df = mat_to_csv().convert(path_mat=\"dataset/imdb.mat\", key=\"imdb\")\n",
    "# wiki_df = mat_to_csv().convert(path_mat=\"dataset/wiki.mat\", key=\"wiki\")"
   ]
  },
  {
   "cell_type": "code",
   "execution_count": 34,
   "metadata": {},
   "outputs": [
    {
     "output_type": "execute_result",
     "data": {
      "text/plain": "   gender     dob  photo_taken  face_score  second_face_score  \\\n0     1.0  693726         1968    1.459693           1.118973   \n1     1.0  693726         1970    2.543198           1.852008   \n2     1.0  693726         1968    3.455579           2.985660   \n3     1.0  693726         1968    1.872117                NaN   \n4     1.0  693726         1968    1.158766                NaN   \n5     0.0  702986         1991    3.490563           1.345335   \n6     0.0  702986         2004    3.479189                NaN   \n7     0.0  702986         2004    3.870171                NaN   \n8     0.0  702986         1991    3.786499           3.629704   \n9     0.0  702986         2004    3.472944           2.945133   \n\n                                      full_path      full_name  \\\n0   01/nm0000001_rm124825600_1899-5-10_1968.jpg   Fred Astaire   \n1  01/nm0000001_rm3343756032_1899-5-10_1970.jpg   Fred Astaire   \n2   01/nm0000001_rm577153792_1899-5-10_1968.jpg   Fred Astaire   \n3   01/nm0000001_rm946909184_1899-5-10_1968.jpg   Fred Astaire   \n4   01/nm0000001_rm980463616_1899-5-10_1968.jpg   Fred Astaire   \n5  02/nm0000002_rm1075631616_1924-9-16_1991.jpg  Lauren Bacall   \n6  02/nm0000002_rm1346607872_1924-9-16_2004.jpg  Lauren Bacall   \n7  02/nm0000002_rm1363385088_1924-9-16_2004.jpg  Lauren Bacall   \n8  02/nm0000002_rm1411175936_1924-9-16_1991.jpg  Lauren Bacall   \n9  02/nm0000002_rm1447271168_1924-9-16_2004.jpg  Lauren Bacall   \n\n                                       face_location  \n0  (1072.926, 161.838, 1214.7839999999999, 303.69...  \n1                (477.184, 100.352, 622.592, 245.76)  \n2  (114.96964308962852, 114.96964308962852, 451.6...  \n3  (622.8855056426588, 424.21750383700805, 844.33...  \n4  (1013.8590023603723, 233.8820422075853, 1201.5...  \n5  (686.6768205940973, 458.4672137293982, 1198.10...  \n6  (78.23569406558903, 52.335129377059346, 194.25...  \n7  (64.30867103752385, 64.30867103752385, 207.267...  \n8  (212.7672369223355, 1055.6441846116777, 526.79...  \n9                 (242.176, 49.664, 278.528, 86.016)  ",
      "text/html": "<div>\n<style scoped>\n    .dataframe tbody tr th:only-of-type {\n        vertical-align: middle;\n    }\n\n    .dataframe tbody tr th {\n        vertical-align: top;\n    }\n\n    .dataframe thead th {\n        text-align: right;\n    }\n</style>\n<table border=\"1\" class=\"dataframe\">\n  <thead>\n    <tr style=\"text-align: right;\">\n      <th></th>\n      <th>gender</th>\n      <th>dob</th>\n      <th>photo_taken</th>\n      <th>face_score</th>\n      <th>second_face_score</th>\n      <th>full_path</th>\n      <th>full_name</th>\n      <th>face_location</th>\n    </tr>\n  </thead>\n  <tbody>\n    <tr>\n      <th>0</th>\n      <td>1.0</td>\n      <td>693726</td>\n      <td>1968</td>\n      <td>1.459693</td>\n      <td>1.118973</td>\n      <td>01/nm0000001_rm124825600_1899-5-10_1968.jpg</td>\n      <td>Fred Astaire</td>\n      <td>(1072.926, 161.838, 1214.7839999999999, 303.69...</td>\n    </tr>\n    <tr>\n      <th>1</th>\n      <td>1.0</td>\n      <td>693726</td>\n      <td>1970</td>\n      <td>2.543198</td>\n      <td>1.852008</td>\n      <td>01/nm0000001_rm3343756032_1899-5-10_1970.jpg</td>\n      <td>Fred Astaire</td>\n      <td>(477.184, 100.352, 622.592, 245.76)</td>\n    </tr>\n    <tr>\n      <th>2</th>\n      <td>1.0</td>\n      <td>693726</td>\n      <td>1968</td>\n      <td>3.455579</td>\n      <td>2.985660</td>\n      <td>01/nm0000001_rm577153792_1899-5-10_1968.jpg</td>\n      <td>Fred Astaire</td>\n      <td>(114.96964308962852, 114.96964308962852, 451.6...</td>\n    </tr>\n    <tr>\n      <th>3</th>\n      <td>1.0</td>\n      <td>693726</td>\n      <td>1968</td>\n      <td>1.872117</td>\n      <td>NaN</td>\n      <td>01/nm0000001_rm946909184_1899-5-10_1968.jpg</td>\n      <td>Fred Astaire</td>\n      <td>(622.8855056426588, 424.21750383700805, 844.33...</td>\n    </tr>\n    <tr>\n      <th>4</th>\n      <td>1.0</td>\n      <td>693726</td>\n      <td>1968</td>\n      <td>1.158766</td>\n      <td>NaN</td>\n      <td>01/nm0000001_rm980463616_1899-5-10_1968.jpg</td>\n      <td>Fred Astaire</td>\n      <td>(1013.8590023603723, 233.8820422075853, 1201.5...</td>\n    </tr>\n    <tr>\n      <th>5</th>\n      <td>0.0</td>\n      <td>702986</td>\n      <td>1991</td>\n      <td>3.490563</td>\n      <td>1.345335</td>\n      <td>02/nm0000002_rm1075631616_1924-9-16_1991.jpg</td>\n      <td>Lauren Bacall</td>\n      <td>(686.6768205940973, 458.4672137293982, 1198.10...</td>\n    </tr>\n    <tr>\n      <th>6</th>\n      <td>0.0</td>\n      <td>702986</td>\n      <td>2004</td>\n      <td>3.479189</td>\n      <td>NaN</td>\n      <td>02/nm0000002_rm1346607872_1924-9-16_2004.jpg</td>\n      <td>Lauren Bacall</td>\n      <td>(78.23569406558903, 52.335129377059346, 194.25...</td>\n    </tr>\n    <tr>\n      <th>7</th>\n      <td>0.0</td>\n      <td>702986</td>\n      <td>2004</td>\n      <td>3.870171</td>\n      <td>NaN</td>\n      <td>02/nm0000002_rm1363385088_1924-9-16_2004.jpg</td>\n      <td>Lauren Bacall</td>\n      <td>(64.30867103752385, 64.30867103752385, 207.267...</td>\n    </tr>\n    <tr>\n      <th>8</th>\n      <td>0.0</td>\n      <td>702986</td>\n      <td>1991</td>\n      <td>3.786499</td>\n      <td>3.629704</td>\n      <td>02/nm0000002_rm1411175936_1924-9-16_1991.jpg</td>\n      <td>Lauren Bacall</td>\n      <td>(212.7672369223355, 1055.6441846116777, 526.79...</td>\n    </tr>\n    <tr>\n      <th>9</th>\n      <td>0.0</td>\n      <td>702986</td>\n      <td>2004</td>\n      <td>3.472944</td>\n      <td>2.945133</td>\n      <td>02/nm0000002_rm1447271168_1924-9-16_2004.jpg</td>\n      <td>Lauren Bacall</td>\n      <td>(242.176, 49.664, 278.528, 86.016)</td>\n    </tr>\n  </tbody>\n</table>\n</div>"
     },
     "metadata": {},
     "execution_count": 34
    }
   ],
   "source": [
    "imdb_df.head(10)"
   ]
  },
  {
   "cell_type": "code",
   "execution_count": 50,
   "metadata": {},
   "outputs": [
    {
     "output_type": "stream",
     "name": "stdout",
     "text": "57%John Rhys-Davies[Errno 2] No such file or directory: 'D:/Datasets/imdb_crop/36/nm0722636_rm842185472_1944-5-5_1981.jpg'\n99%Jane Levy"
    }
   ],
   "source": [
    "from shutil import copyfile, copy\n",
    "\n",
    "for index, row in imdb_df.tail(imdb_df.shape[0]-263969).iterrows():\n",
    "    sys.stdout.write(\"\\r%d%%\" % ((index/imdb_df.shape[0])*100))\n",
    "    sys.stdout.write(row.full_name)\n",
    "    sys.stdout.flush()\n",
    "    dir = 'dataset/imdb/' + str(row.full_name)\n",
    "    if not os.path.exists(dir): os.makedirs(dir)\n",
    "    \n",
    "    try:\n",
    "        copy('D:/Datasets/imdb_crop/' + row.full_path, dir)\n",
    "    except Exception as e:\n",
    "        print(e)"
   ]
  },
  {
   "cell_type": "code",
   "execution_count": 45,
   "metadata": {},
   "outputs": [
    {
     "output_type": "execute_result",
     "data": {
      "text/plain": "460723"
     },
     "metadata": {},
     "execution_count": 45
    }
   ],
   "source": [
    "imdb_df.loc[imdb_df['full_path'] == '36/nm0722636_rm842185472_1944-5-5_1981.jpg']"
   ]
  }
 ],
 "metadata": {
  "language_info": {
   "codemirror_mode": {
    "name": "ipython",
    "version": 3
   },
   "file_extension": ".py",
   "mimetype": "text/x-python",
   "name": "python",
   "nbconvert_exporter": "python",
   "pygments_lexer": "ipython3",
   "version": "3.7.1-final"
  },
  "orig_nbformat": 2,
  "kernelspec": {
   "name": "python37164bitactorrecognitioninmoviestspqkxi5venvc612d51152664071af0b0584feb42d84",
   "display_name": "Python 3.7.1 64-bit ('Actor-Recognition-In-Movies-TSPqKXI5': venv)"
  }
 },
 "nbformat": 4,
 "nbformat_minor": 2
}